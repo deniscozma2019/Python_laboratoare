{
 "cells": [
  {
   "cell_type": "code",
   "execution_count": 2,
   "id": "a0bff16f",
   "metadata": {},
   "outputs": [],
   "source": [
    "import numpy as np\n",
    "import pandas as pd\n",
    "import matplotlib.pyplot as plt\n",
    "import seaborn as sns"
   ]
  },
  {
   "cell_type": "code",
   "execution_count": 3,
   "id": "1815a88f",
   "metadata": {},
   "outputs": [],
   "source": [
    "#importarea set date\n",
    "df = pd.read_csv('exported_data.csv')"
   ]
  },
  {
   "cell_type": "code",
   "execution_count": 4,
   "id": "b8ba11a6",
   "metadata": {},
   "outputs": [
    {
     "data": {
      "text/html": [
       "<div>\n",
       "<style scoped>\n",
       "    .dataframe tbody tr th:only-of-type {\n",
       "        vertical-align: middle;\n",
       "    }\n",
       "\n",
       "    .dataframe tbody tr th {\n",
       "        vertical-align: top;\n",
       "    }\n",
       "\n",
       "    .dataframe thead th {\n",
       "        text-align: right;\n",
       "    }\n",
       "</style>\n",
       "<table border=\"1\" class=\"dataframe\">\n",
       "  <thead>\n",
       "    <tr style=\"text-align: right;\">\n",
       "      <th></th>\n",
       "      <th>rating_score</th>\n",
       "      <th>critic_likes</th>\n",
       "      <th>critic_comments</th>\n",
       "      <th>user_trialist</th>\n",
       "      <th>user_subscriber</th>\n",
       "      <th>user_eligible_for_trial</th>\n",
       "      <th>user_has_payment_method</th>\n",
       "      <th>movie_release_year</th>\n",
       "      <th>movie_title_language</th>\n",
       "      <th>movie_popularity</th>\n",
       "      <th>total_number_of_lists</th>\n",
       "      <th>total_list_comments</th>\n",
       "      <th>total_list_followers</th>\n",
       "      <th>total_list_movie_number</th>\n",
       "      <th>user_id</th>\n",
       "    </tr>\n",
       "  </thead>\n",
       "  <tbody>\n",
       "    <tr>\n",
       "      <th>0</th>\n",
       "      <td>2.0</td>\n",
       "      <td>0</td>\n",
       "      <td>0</td>\n",
       "      <td>1</td>\n",
       "      <td>1</td>\n",
       "      <td>0</td>\n",
       "      <td>1</td>\n",
       "      <td>2005.0</td>\n",
       "      <td>en</td>\n",
       "      <td>1.0</td>\n",
       "      <td>13</td>\n",
       "      <td>25</td>\n",
       "      <td>422</td>\n",
       "      <td>1176</td>\n",
       "      <td>85981819</td>\n",
       "    </tr>\n",
       "    <tr>\n",
       "      <th>1</th>\n",
       "      <td>2.0</td>\n",
       "      <td>0</td>\n",
       "      <td>0</td>\n",
       "      <td>0</td>\n",
       "      <td>0</td>\n",
       "      <td>1</td>\n",
       "      <td>1</td>\n",
       "      <td>2005.0</td>\n",
       "      <td>en</td>\n",
       "      <td>1.0</td>\n",
       "      <td>12</td>\n",
       "      <td>5</td>\n",
       "      <td>21</td>\n",
       "      <td>2425</td>\n",
       "      <td>4208563</td>\n",
       "    </tr>\n",
       "    <tr>\n",
       "      <th>2</th>\n",
       "      <td>3.0</td>\n",
       "      <td>0</td>\n",
       "      <td>0</td>\n",
       "      <td>0</td>\n",
       "      <td>0</td>\n",
       "      <td>1</td>\n",
       "      <td>0</td>\n",
       "      <td>2005.0</td>\n",
       "      <td>en</td>\n",
       "      <td>1.0</td>\n",
       "      <td>5</td>\n",
       "      <td>1</td>\n",
       "      <td>6</td>\n",
       "      <td>57</td>\n",
       "      <td>9820140</td>\n",
       "    </tr>\n",
       "    <tr>\n",
       "      <th>3</th>\n",
       "      <td>3.0</td>\n",
       "      <td>0</td>\n",
       "      <td>0</td>\n",
       "      <td>0</td>\n",
       "      <td>0</td>\n",
       "      <td>1</td>\n",
       "      <td>1</td>\n",
       "      <td>2005.0</td>\n",
       "      <td>en</td>\n",
       "      <td>1.0</td>\n",
       "      <td>6</td>\n",
       "      <td>1</td>\n",
       "      <td>12</td>\n",
       "      <td>172</td>\n",
       "      <td>57756708</td>\n",
       "    </tr>\n",
       "    <tr>\n",
       "      <th>4</th>\n",
       "      <td>4.0</td>\n",
       "      <td>0</td>\n",
       "      <td>0</td>\n",
       "      <td>0</td>\n",
       "      <td>0</td>\n",
       "      <td>1</td>\n",
       "      <td>1</td>\n",
       "      <td>2005.0</td>\n",
       "      <td>en</td>\n",
       "      <td>1.0</td>\n",
       "      <td>15</td>\n",
       "      <td>7</td>\n",
       "      <td>7</td>\n",
       "      <td>459</td>\n",
       "      <td>8516503</td>\n",
       "    </tr>\n",
       "    <tr>\n",
       "      <th>...</th>\n",
       "      <td>...</td>\n",
       "      <td>...</td>\n",
       "      <td>...</td>\n",
       "      <td>...</td>\n",
       "      <td>...</td>\n",
       "      <td>...</td>\n",
       "      <td>...</td>\n",
       "      <td>...</td>\n",
       "      <td>...</td>\n",
       "      <td>...</td>\n",
       "      <td>...</td>\n",
       "      <td>...</td>\n",
       "      <td>...</td>\n",
       "      <td>...</td>\n",
       "      <td>...</td>\n",
       "    </tr>\n",
       "    <tr>\n",
       "      <th>29995</th>\n",
       "      <td>1.0</td>\n",
       "      <td>0</td>\n",
       "      <td>0</td>\n",
       "      <td>0</td>\n",
       "      <td>1</td>\n",
       "      <td>0</td>\n",
       "      <td>1</td>\n",
       "      <td>1957.0</td>\n",
       "      <td>en</td>\n",
       "      <td>9.0</td>\n",
       "      <td>1</td>\n",
       "      <td>0</td>\n",
       "      <td>0</td>\n",
       "      <td>20</td>\n",
       "      <td>81460954</td>\n",
       "    </tr>\n",
       "    <tr>\n",
       "      <th>29996</th>\n",
       "      <td>4.0</td>\n",
       "      <td>0</td>\n",
       "      <td>0</td>\n",
       "      <td>0</td>\n",
       "      <td>0</td>\n",
       "      <td>1</td>\n",
       "      <td>1</td>\n",
       "      <td>1957.0</td>\n",
       "      <td>en</td>\n",
       "      <td>9.0</td>\n",
       "      <td>2</td>\n",
       "      <td>0</td>\n",
       "      <td>6</td>\n",
       "      <td>1044</td>\n",
       "      <td>15967472</td>\n",
       "    </tr>\n",
       "    <tr>\n",
       "      <th>29997</th>\n",
       "      <td>2.0</td>\n",
       "      <td>0</td>\n",
       "      <td>0</td>\n",
       "      <td>0</td>\n",
       "      <td>0</td>\n",
       "      <td>1</td>\n",
       "      <td>1</td>\n",
       "      <td>1957.0</td>\n",
       "      <td>en</td>\n",
       "      <td>9.0</td>\n",
       "      <td>1</td>\n",
       "      <td>0</td>\n",
       "      <td>0</td>\n",
       "      <td>3</td>\n",
       "      <td>69474367</td>\n",
       "    </tr>\n",
       "    <tr>\n",
       "      <th>29998</th>\n",
       "      <td>2.0</td>\n",
       "      <td>0</td>\n",
       "      <td>0</td>\n",
       "      <td>0</td>\n",
       "      <td>1</td>\n",
       "      <td>0</td>\n",
       "      <td>1</td>\n",
       "      <td>1957.0</td>\n",
       "      <td>en</td>\n",
       "      <td>9.0</td>\n",
       "      <td>25</td>\n",
       "      <td>0</td>\n",
       "      <td>9</td>\n",
       "      <td>1693</td>\n",
       "      <td>67208708</td>\n",
       "    </tr>\n",
       "    <tr>\n",
       "      <th>29999</th>\n",
       "      <td>3.0</td>\n",
       "      <td>0</td>\n",
       "      <td>0</td>\n",
       "      <td>0</td>\n",
       "      <td>0</td>\n",
       "      <td>1</td>\n",
       "      <td>0</td>\n",
       "      <td>1957.0</td>\n",
       "      <td>en</td>\n",
       "      <td>9.0</td>\n",
       "      <td>4</td>\n",
       "      <td>0</td>\n",
       "      <td>24</td>\n",
       "      <td>4728</td>\n",
       "      <td>69085904</td>\n",
       "    </tr>\n",
       "  </tbody>\n",
       "</table>\n",
       "<p>30000 rows × 15 columns</p>\n",
       "</div>"
      ],
      "text/plain": [
       "       rating_score  critic_likes  critic_comments  user_trialist  \\\n",
       "0               2.0             0                0              1   \n",
       "1               2.0             0                0              0   \n",
       "2               3.0             0                0              0   \n",
       "3               3.0             0                0              0   \n",
       "4               4.0             0                0              0   \n",
       "...             ...           ...              ...            ...   \n",
       "29995           1.0             0                0              0   \n",
       "29996           4.0             0                0              0   \n",
       "29997           2.0             0                0              0   \n",
       "29998           2.0             0                0              0   \n",
       "29999           3.0             0                0              0   \n",
       "\n",
       "       user_subscriber  user_eligible_for_trial  user_has_payment_method  \\\n",
       "0                    1                        0                        1   \n",
       "1                    0                        1                        1   \n",
       "2                    0                        1                        0   \n",
       "3                    0                        1                        1   \n",
       "4                    0                        1                        1   \n",
       "...                ...                      ...                      ...   \n",
       "29995                1                        0                        1   \n",
       "29996                0                        1                        1   \n",
       "29997                0                        1                        1   \n",
       "29998                1                        0                        1   \n",
       "29999                0                        1                        0   \n",
       "\n",
       "       movie_release_year movie_title_language  movie_popularity  \\\n",
       "0                  2005.0                   en               1.0   \n",
       "1                  2005.0                   en               1.0   \n",
       "2                  2005.0                   en               1.0   \n",
       "3                  2005.0                   en               1.0   \n",
       "4                  2005.0                   en               1.0   \n",
       "...                   ...                  ...               ...   \n",
       "29995              1957.0                   en               9.0   \n",
       "29996              1957.0                   en               9.0   \n",
       "29997              1957.0                   en               9.0   \n",
       "29998              1957.0                   en               9.0   \n",
       "29999              1957.0                   en               9.0   \n",
       "\n",
       "       total_number_of_lists  total_list_comments  total_list_followers  \\\n",
       "0                         13                   25                   422   \n",
       "1                         12                    5                    21   \n",
       "2                          5                    1                     6   \n",
       "3                          6                    1                    12   \n",
       "4                         15                    7                     7   \n",
       "...                      ...                  ...                   ...   \n",
       "29995                      1                    0                     0   \n",
       "29996                      2                    0                     6   \n",
       "29997                      1                    0                     0   \n",
       "29998                     25                    0                     9   \n",
       "29999                      4                    0                    24   \n",
       "\n",
       "       total_list_movie_number   user_id  \n",
       "0                         1176  85981819  \n",
       "1                         2425   4208563  \n",
       "2                           57   9820140  \n",
       "3                          172  57756708  \n",
       "4                          459   8516503  \n",
       "...                        ...       ...  \n",
       "29995                       20  81460954  \n",
       "29996                     1044  15967472  \n",
       "29997                        3  69474367  \n",
       "29998                     1693  67208708  \n",
       "29999                     4728  69085904  \n",
       "\n",
       "[30000 rows x 15 columns]"
      ]
     },
     "execution_count": 4,
     "metadata": {},
     "output_type": "execute_result"
    }
   ],
   "source": [
    "df"
   ]
  },
  {
   "cell_type": "code",
   "execution_count": 5,
   "id": "4c7df99e",
   "metadata": {},
   "outputs": [
    {
     "name": "stdout",
     "output_type": "stream",
     "text": [
      "<class 'pandas.core.frame.DataFrame'>\n",
      "RangeIndex: 30000 entries, 0 to 29999\n",
      "Data columns (total 15 columns):\n",
      " #   Column                   Non-Null Count  Dtype  \n",
      "---  ------                   --------------  -----  \n",
      " 0   rating_score             30000 non-null  float64\n",
      " 1   critic_likes             30000 non-null  int64  \n",
      " 2   critic_comments          30000 non-null  int64  \n",
      " 3   user_trialist            30000 non-null  int64  \n",
      " 4   user_subscriber          30000 non-null  int64  \n",
      " 5   user_eligible_for_trial  30000 non-null  int64  \n",
      " 6   user_has_payment_method  30000 non-null  int64  \n",
      " 7   movie_release_year       29991 non-null  float64\n",
      " 8   movie_title_language     29991 non-null  object \n",
      " 9   movie_popularity         29991 non-null  float64\n",
      " 10  total_number_of_lists    30000 non-null  int64  \n",
      " 11  total_list_comments      30000 non-null  int64  \n",
      " 12  total_list_followers     30000 non-null  int64  \n",
      " 13  total_list_movie_number  30000 non-null  int64  \n",
      " 14  user_id                  30000 non-null  int64  \n",
      "dtypes: float64(3), int64(11), object(1)\n",
      "memory usage: 3.3+ MB\n"
     ]
    }
   ],
   "source": [
    "#Vizualizarea datelor din tabel\n",
    "df.info()"
   ]
  },
  {
   "cell_type": "code",
   "execution_count": 6,
   "id": "a00e3197",
   "metadata": {},
   "outputs": [
    {
     "data": {
      "text/plain": [
       "rating_score               0\n",
       "critic_likes               0\n",
       "critic_comments            0\n",
       "user_trialist              0\n",
       "user_subscriber            0\n",
       "user_eligible_for_trial    0\n",
       "user_has_payment_method    0\n",
       "movie_release_year         9\n",
       "movie_title_language       9\n",
       "movie_popularity           9\n",
       "total_number_of_lists      0\n",
       "total_list_comments        0\n",
       "total_list_followers       0\n",
       "total_list_movie_number    0\n",
       "user_id                    0\n",
       "dtype: int64"
      ]
     },
     "execution_count": 6,
     "metadata": {},
     "output_type": "execute_result"
    }
   ],
   "source": [
    "#determinam numarul de valori lipsa\n",
    "df.isna().sum()"
   ]
  },
  {
   "cell_type": "code",
   "execution_count": 7,
   "id": "a99f88ff",
   "metadata": {},
   "outputs": [],
   "source": [
    "df = df.dropna()"
   ]
  },
  {
   "cell_type": "code",
   "execution_count": 8,
   "id": "9f3983f3",
   "metadata": {},
   "outputs": [
    {
     "data": {
      "text/plain": [
       "rating_score               0\n",
       "critic_likes               0\n",
       "critic_comments            0\n",
       "user_trialist              0\n",
       "user_subscriber            0\n",
       "user_eligible_for_trial    0\n",
       "user_has_payment_method    0\n",
       "movie_release_year         0\n",
       "movie_title_language       0\n",
       "movie_popularity           0\n",
       "total_number_of_lists      0\n",
       "total_list_comments        0\n",
       "total_list_followers       0\n",
       "total_list_movie_number    0\n",
       "user_id                    0\n",
       "dtype: int64"
      ]
     },
     "execution_count": 8,
     "metadata": {},
     "output_type": "execute_result"
    }
   ],
   "source": [
    "df.isna().sum()"
   ]
  },
  {
   "cell_type": "code",
   "execution_count": 9,
   "id": "d65afc4f",
   "metadata": {},
   "outputs": [
    {
     "data": {
      "text/plain": [
       "4.0    12091\n",
       "5.0     7988\n",
       "3.0     7321\n",
       "2.0     1976\n",
       "1.0      615\n",
       "Name: rating_score, dtype: int64"
      ]
     },
     "execution_count": 9,
     "metadata": {},
     "output_type": "execute_result"
    }
   ],
   "source": [
    "df['rating_score'].value_counts()"
   ]
  },
  {
   "cell_type": "code",
   "execution_count": 10,
   "id": "44f437b0",
   "metadata": {},
   "outputs": [],
   "source": [
    "df = df.drop(['user_id'], axis=1)"
   ]
  },
  {
   "cell_type": "code",
   "execution_count": 11,
   "id": "e7915ffe",
   "metadata": {},
   "outputs": [
    {
     "data": {
      "text/html": [
       "<div>\n",
       "<style scoped>\n",
       "    .dataframe tbody tr th:only-of-type {\n",
       "        vertical-align: middle;\n",
       "    }\n",
       "\n",
       "    .dataframe tbody tr th {\n",
       "        vertical-align: top;\n",
       "    }\n",
       "\n",
       "    .dataframe thead th {\n",
       "        text-align: right;\n",
       "    }\n",
       "</style>\n",
       "<table border=\"1\" class=\"dataframe\">\n",
       "  <thead>\n",
       "    <tr style=\"text-align: right;\">\n",
       "      <th></th>\n",
       "      <th>rating_score</th>\n",
       "      <th>critic_likes</th>\n",
       "      <th>critic_comments</th>\n",
       "      <th>user_trialist</th>\n",
       "      <th>user_subscriber</th>\n",
       "      <th>user_eligible_for_trial</th>\n",
       "      <th>user_has_payment_method</th>\n",
       "      <th>movie_release_year</th>\n",
       "      <th>movie_title_language</th>\n",
       "      <th>movie_popularity</th>\n",
       "      <th>total_number_of_lists</th>\n",
       "      <th>total_list_comments</th>\n",
       "      <th>total_list_followers</th>\n",
       "      <th>total_list_movie_number</th>\n",
       "    </tr>\n",
       "  </thead>\n",
       "  <tbody>\n",
       "    <tr>\n",
       "      <th>0</th>\n",
       "      <td>2.0</td>\n",
       "      <td>0</td>\n",
       "      <td>0</td>\n",
       "      <td>1</td>\n",
       "      <td>1</td>\n",
       "      <td>0</td>\n",
       "      <td>1</td>\n",
       "      <td>2005.0</td>\n",
       "      <td>en</td>\n",
       "      <td>1.0</td>\n",
       "      <td>13</td>\n",
       "      <td>25</td>\n",
       "      <td>422</td>\n",
       "      <td>1176</td>\n",
       "    </tr>\n",
       "    <tr>\n",
       "      <th>1</th>\n",
       "      <td>2.0</td>\n",
       "      <td>0</td>\n",
       "      <td>0</td>\n",
       "      <td>0</td>\n",
       "      <td>0</td>\n",
       "      <td>1</td>\n",
       "      <td>1</td>\n",
       "      <td>2005.0</td>\n",
       "      <td>en</td>\n",
       "      <td>1.0</td>\n",
       "      <td>12</td>\n",
       "      <td>5</td>\n",
       "      <td>21</td>\n",
       "      <td>2425</td>\n",
       "    </tr>\n",
       "    <tr>\n",
       "      <th>2</th>\n",
       "      <td>3.0</td>\n",
       "      <td>0</td>\n",
       "      <td>0</td>\n",
       "      <td>0</td>\n",
       "      <td>0</td>\n",
       "      <td>1</td>\n",
       "      <td>0</td>\n",
       "      <td>2005.0</td>\n",
       "      <td>en</td>\n",
       "      <td>1.0</td>\n",
       "      <td>5</td>\n",
       "      <td>1</td>\n",
       "      <td>6</td>\n",
       "      <td>57</td>\n",
       "    </tr>\n",
       "    <tr>\n",
       "      <th>3</th>\n",
       "      <td>3.0</td>\n",
       "      <td>0</td>\n",
       "      <td>0</td>\n",
       "      <td>0</td>\n",
       "      <td>0</td>\n",
       "      <td>1</td>\n",
       "      <td>1</td>\n",
       "      <td>2005.0</td>\n",
       "      <td>en</td>\n",
       "      <td>1.0</td>\n",
       "      <td>6</td>\n",
       "      <td>1</td>\n",
       "      <td>12</td>\n",
       "      <td>172</td>\n",
       "    </tr>\n",
       "    <tr>\n",
       "      <th>4</th>\n",
       "      <td>4.0</td>\n",
       "      <td>0</td>\n",
       "      <td>0</td>\n",
       "      <td>0</td>\n",
       "      <td>0</td>\n",
       "      <td>1</td>\n",
       "      <td>1</td>\n",
       "      <td>2005.0</td>\n",
       "      <td>en</td>\n",
       "      <td>1.0</td>\n",
       "      <td>15</td>\n",
       "      <td>7</td>\n",
       "      <td>7</td>\n",
       "      <td>459</td>\n",
       "    </tr>\n",
       "    <tr>\n",
       "      <th>...</th>\n",
       "      <td>...</td>\n",
       "      <td>...</td>\n",
       "      <td>...</td>\n",
       "      <td>...</td>\n",
       "      <td>...</td>\n",
       "      <td>...</td>\n",
       "      <td>...</td>\n",
       "      <td>...</td>\n",
       "      <td>...</td>\n",
       "      <td>...</td>\n",
       "      <td>...</td>\n",
       "      <td>...</td>\n",
       "      <td>...</td>\n",
       "      <td>...</td>\n",
       "    </tr>\n",
       "    <tr>\n",
       "      <th>29995</th>\n",
       "      <td>1.0</td>\n",
       "      <td>0</td>\n",
       "      <td>0</td>\n",
       "      <td>0</td>\n",
       "      <td>1</td>\n",
       "      <td>0</td>\n",
       "      <td>1</td>\n",
       "      <td>1957.0</td>\n",
       "      <td>en</td>\n",
       "      <td>9.0</td>\n",
       "      <td>1</td>\n",
       "      <td>0</td>\n",
       "      <td>0</td>\n",
       "      <td>20</td>\n",
       "    </tr>\n",
       "    <tr>\n",
       "      <th>29996</th>\n",
       "      <td>4.0</td>\n",
       "      <td>0</td>\n",
       "      <td>0</td>\n",
       "      <td>0</td>\n",
       "      <td>0</td>\n",
       "      <td>1</td>\n",
       "      <td>1</td>\n",
       "      <td>1957.0</td>\n",
       "      <td>en</td>\n",
       "      <td>9.0</td>\n",
       "      <td>2</td>\n",
       "      <td>0</td>\n",
       "      <td>6</td>\n",
       "      <td>1044</td>\n",
       "    </tr>\n",
       "    <tr>\n",
       "      <th>29997</th>\n",
       "      <td>2.0</td>\n",
       "      <td>0</td>\n",
       "      <td>0</td>\n",
       "      <td>0</td>\n",
       "      <td>0</td>\n",
       "      <td>1</td>\n",
       "      <td>1</td>\n",
       "      <td>1957.0</td>\n",
       "      <td>en</td>\n",
       "      <td>9.0</td>\n",
       "      <td>1</td>\n",
       "      <td>0</td>\n",
       "      <td>0</td>\n",
       "      <td>3</td>\n",
       "    </tr>\n",
       "    <tr>\n",
       "      <th>29998</th>\n",
       "      <td>2.0</td>\n",
       "      <td>0</td>\n",
       "      <td>0</td>\n",
       "      <td>0</td>\n",
       "      <td>1</td>\n",
       "      <td>0</td>\n",
       "      <td>1</td>\n",
       "      <td>1957.0</td>\n",
       "      <td>en</td>\n",
       "      <td>9.0</td>\n",
       "      <td>25</td>\n",
       "      <td>0</td>\n",
       "      <td>9</td>\n",
       "      <td>1693</td>\n",
       "    </tr>\n",
       "    <tr>\n",
       "      <th>29999</th>\n",
       "      <td>3.0</td>\n",
       "      <td>0</td>\n",
       "      <td>0</td>\n",
       "      <td>0</td>\n",
       "      <td>0</td>\n",
       "      <td>1</td>\n",
       "      <td>0</td>\n",
       "      <td>1957.0</td>\n",
       "      <td>en</td>\n",
       "      <td>9.0</td>\n",
       "      <td>4</td>\n",
       "      <td>0</td>\n",
       "      <td>24</td>\n",
       "      <td>4728</td>\n",
       "    </tr>\n",
       "  </tbody>\n",
       "</table>\n",
       "<p>29991 rows × 14 columns</p>\n",
       "</div>"
      ],
      "text/plain": [
       "       rating_score  critic_likes  critic_comments  user_trialist  \\\n",
       "0               2.0             0                0              1   \n",
       "1               2.0             0                0              0   \n",
       "2               3.0             0                0              0   \n",
       "3               3.0             0                0              0   \n",
       "4               4.0             0                0              0   \n",
       "...             ...           ...              ...            ...   \n",
       "29995           1.0             0                0              0   \n",
       "29996           4.0             0                0              0   \n",
       "29997           2.0             0                0              0   \n",
       "29998           2.0             0                0              0   \n",
       "29999           3.0             0                0              0   \n",
       "\n",
       "       user_subscriber  user_eligible_for_trial  user_has_payment_method  \\\n",
       "0                    1                        0                        1   \n",
       "1                    0                        1                        1   \n",
       "2                    0                        1                        0   \n",
       "3                    0                        1                        1   \n",
       "4                    0                        1                        1   \n",
       "...                ...                      ...                      ...   \n",
       "29995                1                        0                        1   \n",
       "29996                0                        1                        1   \n",
       "29997                0                        1                        1   \n",
       "29998                1                        0                        1   \n",
       "29999                0                        1                        0   \n",
       "\n",
       "       movie_release_year movie_title_language  movie_popularity  \\\n",
       "0                  2005.0                   en               1.0   \n",
       "1                  2005.0                   en               1.0   \n",
       "2                  2005.0                   en               1.0   \n",
       "3                  2005.0                   en               1.0   \n",
       "4                  2005.0                   en               1.0   \n",
       "...                   ...                  ...               ...   \n",
       "29995              1957.0                   en               9.0   \n",
       "29996              1957.0                   en               9.0   \n",
       "29997              1957.0                   en               9.0   \n",
       "29998              1957.0                   en               9.0   \n",
       "29999              1957.0                   en               9.0   \n",
       "\n",
       "       total_number_of_lists  total_list_comments  total_list_followers  \\\n",
       "0                         13                   25                   422   \n",
       "1                         12                    5                    21   \n",
       "2                          5                    1                     6   \n",
       "3                          6                    1                    12   \n",
       "4                         15                    7                     7   \n",
       "...                      ...                  ...                   ...   \n",
       "29995                      1                    0                     0   \n",
       "29996                      2                    0                     6   \n",
       "29997                      1                    0                     0   \n",
       "29998                     25                    0                     9   \n",
       "29999                      4                    0                    24   \n",
       "\n",
       "       total_list_movie_number  \n",
       "0                         1176  \n",
       "1                         2425  \n",
       "2                           57  \n",
       "3                          172  \n",
       "4                          459  \n",
       "...                        ...  \n",
       "29995                       20  \n",
       "29996                     1044  \n",
       "29997                        3  \n",
       "29998                     1693  \n",
       "29999                     4728  \n",
       "\n",
       "[29991 rows x 14 columns]"
      ]
     },
     "execution_count": 11,
     "metadata": {},
     "output_type": "execute_result"
    }
   ],
   "source": [
    "df"
   ]
  },
  {
   "cell_type": "code",
   "execution_count": 12,
   "id": "239ec283",
   "metadata": {},
   "outputs": [
    {
     "data": {
      "text/plain": [
       "(array([2.9746e+04, 1.4100e+02, 5.5000e+01, 1.9000e+01, 1.0000e+01,\n",
       "        8.0000e+00, 4.0000e+00, 3.0000e+00, 3.0000e+00, 2.0000e+00]),\n",
       " array([ 0. ,  2.2,  4.4,  6.6,  8.8, 11. , 13.2, 15.4, 17.6, 19.8, 22. ]),\n",
       " <BarContainer object of 10 artists>)"
      ]
     },
     "execution_count": 12,
     "metadata": {},
     "output_type": "execute_result"
    },
    {
     "data": {
      "image/png": "[encoded data removed]",
      "text/plain": [
       "<Figure size 432x288 with 1 Axes>"
      ]
     },
     "metadata": {
      "needs_background": "light"
     },
     "output_type": "display_data"
    }
   ],
   "source": [
    "plt.hist(df['critic_likes'])"
   ]
  },
  {
   "cell_type": "code",
   "execution_count": 13,
   "id": "e5acd82a",
   "metadata": {},
   "outputs": [
    {
     "data": {
      "text/plain": [
       "(array([2.9965e+04, 1.5000e+01, 7.0000e+00, 2.0000e+00, 0.0000e+00,\n",
       "        0.0000e+00, 1.0000e+00, 0.0000e+00, 0.0000e+00, 1.0000e+00]),\n",
       " array([ 0. ,  2.9,  5.8,  8.7, 11.6, 14.5, 17.4, 20.3, 23.2, 26.1, 29. ]),\n",
       " <BarContainer object of 10 artists>)"
      ]
     },
     "execution_count": 13,
     "metadata": {},
     "output_type": "execute_result"
    },
    {
     "data": {
      "image/png": "[encoded data removed]",
      "text/plain": [
       "<Figure size 432x288 with 1 Axes>"
      ]
     },
     "metadata": {
      "needs_background": "light"
     },
     "output_type": "display_data"
    }
   ],
   "source": [
    "plt.hist(df['critic_comments'])"
   ]
  },
  {
   "cell_type": "code",
   "execution_count": 14,
   "id": "ae9d4b71",
   "metadata": {},
   "outputs": [
    {
     "data": {
      "text/plain": [
       "(array([[2.9734e+04, 7.0000e+00, 4.0000e+00, 1.0000e+00, 0.0000e+00,\n",
       "         0.0000e+00, 0.0000e+00, 0.0000e+00, 0.0000e+00, 0.0000e+00],\n",
       "        [1.3700e+02, 3.0000e+00, 1.0000e+00, 0.0000e+00, 0.0000e+00,\n",
       "         0.0000e+00, 0.0000e+00, 0.0000e+00, 0.0000e+00, 0.0000e+00],\n",
       "        [5.4000e+01, 1.0000e+00, 0.0000e+00, 0.0000e+00, 0.0000e+00,\n",
       "         0.0000e+00, 0.0000e+00, 0.0000e+00, 0.0000e+00, 0.0000e+00],\n",
       "        [1.7000e+01, 2.0000e+00, 0.0000e+00, 0.0000e+00, 0.0000e+00,\n",
       "         0.0000e+00, 0.0000e+00, 0.0000e+00, 0.0000e+00, 0.0000e+00],\n",
       "        [9.0000e+00, 1.0000e+00, 0.0000e+00, 0.0000e+00, 0.0000e+00,\n",
       "         0.0000e+00, 0.0000e+00, 0.0000e+00, 0.0000e+00, 0.0000e+00],\n",
       "        [7.0000e+00, 1.0000e+00, 0.0000e+00, 0.0000e+00, 0.0000e+00,\n",
       "         0.0000e+00, 0.0000e+00, 0.0000e+00, 0.0000e+00, 0.0000e+00],\n",
       "        [2.0000e+00, 0.0000e+00, 2.0000e+00, 0.0000e+00, 0.0000e+00,\n",
       "         0.0000e+00, 0.0000e+00, 0.0000e+00, 0.0000e+00, 0.0000e+00],\n",
       "        [3.0000e+00, 0.0000e+00, 0.0000e+00, 0.0000e+00, 0.0000e+00,\n",
       "         0.0000e+00, 0.0000e+00, 0.0000e+00, 0.0000e+00, 0.0000e+00],\n",
       "        [2.0000e+00, 0.0000e+00, 0.0000e+00, 1.0000e+00, 0.0000e+00,\n",
       "         0.0000e+00, 0.0000e+00, 0.0000e+00, 0.0000e+00, 0.0000e+00],\n",
       "        [0.0000e+00, 0.0000e+00, 0.0000e+00, 0.0000e+00, 0.0000e+00,\n",
       "         0.0000e+00, 1.0000e+00, 0.0000e+00, 0.0000e+00, 1.0000e+00]]),\n",
       " array([ 0. ,  2.2,  4.4,  6.6,  8.8, 11. , 13.2, 15.4, 17.6, 19.8, 22. ]),\n",
       " array([ 0. ,  2.9,  5.8,  8.7, 11.6, 14.5, 17.4, 20.3, 23.2, 26.1, 29. ]),\n",
       " <matplotlib.collections.QuadMesh at 0x1bd7b460>)"
      ]
     },
     "execution_count": 14,
     "metadata": {},
     "output_type": "execute_result"
    },
    {
     "data": {
      "image/png": "[encoded data removed]",
      "text/plain": [
       "<Figure size 432x288 with 1 Axes>"
      ]
     },
     "metadata": {
      "needs_background": "light"
     },
     "output_type": "display_data"
    }
   ],
   "source": [
    "#impreuna aceste doua cimputi\n",
    "plt.hist2d(df['critic_likes'], df['critic_comments'])"
   ]
  },
  {
   "cell_type": "code",
   "execution_count": 15,
   "id": "4fd80bd7",
   "metadata": {},
   "outputs": [
    {
     "data": {
      "image/png": "[encoded data removed]",
      "text/plain": [
       "<Figure size 432x288 with 1 Axes>"
      ]
     },
     "metadata": {
      "needs_background": "light"
     },
     "output_type": "display_data"
    }
   ],
   "source": [
    "ax=sns.histplot(df, x =\"critic_likes\", y=\"critic_comments\", hue=\"rating_score\", palette=\"viridis\", kde=True)\n",
    "sns.move_legend(ax, \"lower center\", bbox_to_anchor=(.5, 1), ncol=3, title=\"Raport critic_comm/critic_likes\", frameon=False)\n",
    "plt.show()"
   ]
  },
  {
   "cell_type": "code",
   "execution_count": 16,
   "id": "510c5cbd",
   "metadata": {},
   "outputs": [
    {
     "data": {
      "text/plain": [
       "0    27793\n",
       "1     2198\n",
       "Name: user_trialist, dtype: int64"
      ]
     },
     "execution_count": 16,
     "metadata": {},
     "output_type": "execute_result"
    }
   ],
   "source": [
    "df['user_trialist'].value_counts()"
   ]
  },
  {
   "cell_type": "code",
   "execution_count": 17,
   "id": "81063db9",
   "metadata": {},
   "outputs": [
    {
     "data": {
      "text/plain": [
       "<AxesSubplot:xlabel='user_trialist', ylabel='count'>"
      ]
     },
     "execution_count": 17,
     "metadata": {},
     "output_type": "execute_result"
    },
    {
     "data": {
      "image/png": "[encoded data removed]",
      "text/plain": [
       "<Figure size 432x288 with 1 Axes>"
      ]
     },
     "metadata": {
      "needs_background": "light"
     },
     "output_type": "display_data"
    }
   ],
   "source": [
    "sns.countplot(data=df, x=\"user_trialist\", hue=\"rating_score\")"
   ]
  },
  {
   "cell_type": "code",
   "execution_count": 18,
   "id": "164b37ca",
   "metadata": {},
   "outputs": [
    {
     "data": {
      "text/plain": [
       "<seaborn.axisgrid.FacetGrid at 0x1bedf670>"
      ]
     },
     "execution_count": 18,
     "metadata": {},
     "output_type": "execute_result"
    },
    {
     "data": {
      "image/png": "[encoded data removed]",
      "text/plain": [
       "<Figure size 429.5x360 with 1 Axes>"
      ]
     },
     "metadata": {
      "needs_background": "light"
     },
     "output_type": "display_data"
    }
   ],
   "source": [
    "(df\n",
    ".groupby('user_trialist')['rating_score']\n",
    ".value_counts(normalize=True)\n",
    ".mul(100)\n",
    ".rename('percent')\n",
    ".reset_index()\n",
    ".pipe((sns.catplot,'data'), x='user_trialist', y='percent', hue='rating_score', kind='bar'))"
   ]
  },
  {
   "cell_type": "code",
   "execution_count": 19,
   "id": "b03b167f",
   "metadata": {},
   "outputs": [
    {
     "data": {
      "text/plain": [
       "<seaborn.axisgrid.FacetGrid at 0x1bf38f58>"
      ]
     },
     "execution_count": 19,
     "metadata": {},
     "output_type": "execute_result"
    },
    {
     "data": {
      "image/png": "[encoded data removed]",
      "text/plain": [
       "<Figure size 429.5x360 with 1 Axes>"
      ]
     },
     "metadata": {
      "needs_background": "light"
     },
     "output_type": "display_data"
    }
   ],
   "source": [
    "(df\n",
    ".groupby('user_subscriber')['rating_score']\n",
    ".value_counts(normalize=True)\n",
    ".mul(100)\n",
    ".rename('percent')\n",
    ".reset_index()\n",
    ".pipe((sns.catplot,'data'), x='user_subscriber', y='percent', hue='rating_score', kind='bar'))"
   ]
  },
  {
   "cell_type": "code",
   "execution_count": 20,
   "id": "a7bf155f",
   "metadata": {},
   "outputs": [
    {
     "data": {
      "text/plain": [
       "<seaborn.axisgrid.FacetGrid at 0x1b801358>"
      ]
     },
     "execution_count": 20,
     "metadata": {},
     "output_type": "execute_result"
    },
    {
     "data": {
      "image/png": "[encoded data removed]",
      "text/plain": [
       "<Figure size 429.5x360 with 1 Axes>"
      ]
     },
     "metadata": {
      "needs_background": "light"
     },
     "output_type": "display_data"
    }
   ],
   "source": [
    "(df\n",
    ".groupby('user_eligible_for_trial')['rating_score']\n",
    ".value_counts(normalize=True)\n",
    ".mul(100)\n",
    ".rename('percent')\n",
    ".reset_index()\n",
    ".pipe((sns.catplot,'data'), x='user_eligible_for_trial', y='percent', hue='rating_score', kind='bar'))"
   ]
  },
  {
   "cell_type": "code",
   "execution_count": 21,
   "id": "643ab391",
   "metadata": {},
   "outputs": [
    {
     "data": {
      "text/plain": [
       "<seaborn.axisgrid.FacetGrid at 0x1bf0cd18>"
      ]
     },
     "execution_count": 21,
     "metadata": {},
     "output_type": "execute_result"
    },
    {
     "data": {
      "image/png": "[encoded data removed]",
      "text/plain": [
       "<Figure size 429.5x360 with 1 Axes>"
      ]
     },
     "metadata": {
      "needs_background": "light"
     },
     "output_type": "display_data"
    }
   ],
   "source": [
    "(df\n",
    ".groupby('user_has_payment_method')['rating_score']\n",
    ".value_counts(normalize=True)\n",
    ".mul(100)\n",
    ".rename('percent')\n",
    ".reset_index()\n",
    ".pipe((sns.catplot,'data'), x='user_has_payment_method', y='percent', hue='rating_score', kind='bar'))"
   ]
  },
  {
   "cell_type": "code",
   "execution_count": 22,
   "id": "4eac35a4",
   "metadata": {},
   "outputs": [
    {
     "data": {
      "text/plain": [
       "Index(['rating_score', 'critic_likes', 'critic_comments', 'user_trialist',\n",
       "       'user_subscriber', 'user_eligible_for_trial', 'user_has_payment_method',\n",
       "       'movie_release_year', 'movie_title_language', 'movie_popularity',\n",
       "       'total_number_of_lists', 'total_list_comments', 'total_list_followers',\n",
       "       'total_list_movie_number'],\n",
       "      dtype='object')"
      ]
     },
     "execution_count": 22,
     "metadata": {},
     "output_type": "execute_result"
    }
   ],
   "source": [
    "df.columns"
   ]
  },
  {
   "cell_type": "code",
   "execution_count": 23,
   "id": "590736de",
   "metadata": {},
   "outputs": [
    {
     "data": {
      "text/plain": [
       "<seaborn.axisgrid.FacetGrid at 0x1bce44a8>"
      ]
     },
     "execution_count": 23,
     "metadata": {},
     "output_type": "execute_result"
    },
    {
     "data": {
      "image/png": "[encoded data removed]",
      "text/plain": [
       "<Figure size 360x360 with 1 Axes>"
      ]
     },
     "metadata": {
      "needs_background": "light"
     },
     "output_type": "display_data"
    }
   ],
   "source": [
    "sns.catplot(x=\"rating_score\", y=\"movie_release_year\", hue=\"rating_score\", data = df)"
   ]
  },
  {
   "cell_type": "code",
   "execution_count": 25,
   "id": "afbe2224",
   "metadata": {},
   "outputs": [
    {
     "data": {
      "text/plain": [
       "<AxesSubplot:xlabel='movie_title_language', ylabel='count'>"
      ]
     },
     "execution_count": 25,
     "metadata": {},
     "output_type": "execute_result"
    },
    {
     "data": {
      "image/png": "[encoded data removed]",
      "text/plain": [
       "<Figure size 432x288 with 1 Axes>"
      ]
     },
     "metadata": {
      "needs_background": "light"
     },
     "output_type": "display_data"
    }
   ],
   "source": [
    "sns.countplot(data=df, x=\"movie_title_language\", hue=\"rating_score\")"
   ]
  },
  {
   "cell_type": "code",
   "execution_count": 26,
   "id": "7df652f5",
   "metadata": {},
   "outputs": [
    {
     "data": {
      "text/plain": [
       "array(['en'], dtype=object)"
      ]
     },
     "execution_count": 26,
     "metadata": {},
     "output_type": "execute_result"
    }
   ],
   "source": [
    "df['movie_title_language'].unique()"
   ]
  },
  {
   "cell_type": "code",
   "execution_count": 28,
   "id": "b3a801db",
   "metadata": {},
   "outputs": [
    {
     "data": {
      "text/plain": [
       "<seaborn.axisgrid.FacetGrid at 0x4f50538>"
      ]
     },
     "execution_count": 28,
     "metadata": {},
     "output_type": "execute_result"
    },
    {
     "data": {
      "image/png": "[encoded data removed]",
      "text/plain": [
       "<Figure size 360x360 with 1 Axes>"
      ]
     },
     "metadata": {
      "needs_background": "light"
     },
     "output_type": "display_data"
    }
   ],
   "source": [
    "sns.catplot(x=\"rating_score\", y=\"movie_popularity\", hue=\"rating_score\", data = df)"
   ]
  },
  {
   "cell_type": "code",
   "execution_count": 29,
   "id": "2e8927e7",
   "metadata": {},
   "outputs": [
    {
     "data": {
      "text/plain": [
       "<seaborn.axisgrid.FacetGrid at 0x111a4a90>"
      ]
     },
     "execution_count": 29,
     "metadata": {},
     "output_type": "execute_result"
    },
    {
     "data": {
      "image/png": "[encoded data removed]",
      "text/plain": [
       "<Figure size 360x360 with 1 Axes>"
      ]
     },
     "metadata": {
      "needs_background": "light"
     },
     "output_type": "display_data"
    }
   ],
   "source": [
    "sns.catplot(x=\"rating_score\", y=\"total_number_of_lists\", hue=\"rating_score\", data = df)"
   ]
  },
  {
   "cell_type": "code",
   "execution_count": 30,
   "id": "780a4935",
   "metadata": {},
   "outputs": [
    {
     "data": {
      "text/plain": [
       "<seaborn.axisgrid.FacetGrid at 0x110ac538>"
      ]
     },
     "execution_count": 30,
     "metadata": {},
     "output_type": "execute_result"
    },
    {
     "data": {
      "image/png": "[encoded data removed]",
      "text/plain": [
       "<Figure size 360x360 with 1 Axes>"
      ]
     },
     "metadata": {
      "needs_background": "light"
     },
     "output_type": "display_data"
    }
   ],
   "source": [
    "sns.catplot(x=\"rating_score\", y=\"total_list_comments\", hue=\"rating_score\", data = df)"
   ]
  },
  {
   "cell_type": "code",
   "execution_count": 31,
   "id": "d7e76aae",
   "metadata": {},
   "outputs": [
    {
     "data": {
      "text/plain": [
       "<seaborn.axisgrid.FacetGrid at 0x1106bdd8>"
      ]
     },
     "execution_count": 31,
     "metadata": {},
     "output_type": "execute_result"
    },
    {
     "data": {
      "image/png": "[encoded data removed]",
      "text/plain": [
       "<Figure size 360x360 with 1 Axes>"
      ]
     },
     "metadata": {
      "needs_background": "light"
     },
     "output_type": "display_data"
    }
   ],
   "source": [
    "sns.catplot(x=\"rating_score\", y=\"total_list_followers\", hue=\"rating_score\", data = df)"
   ]
  },
  {
   "cell_type": "code",
   "execution_count": 32,
   "id": "d58d6f6b",
   "metadata": {},
   "outputs": [
    {
     "data": {
      "text/plain": [
       "<seaborn.axisgrid.FacetGrid at 0x1b801190>"
      ]
     },
     "execution_count": 32,
     "metadata": {},
     "output_type": "execute_result"
    },
    {
     "data": {
      "image/png": "[encoded data removed]",
      "text/plain": [
       "<Figure size 360x360 with 1 Axes>"
      ]
     },
     "metadata": {
      "needs_background": "light"
     },
     "output_type": "display_data"
    }
   ],
   "source": [
    "sns.catplot(x=\"rating_score\", y=\"total_list_movie_number\", hue=\"rating_score\", data = df)"
   ]
  },
  {
   "cell_type": "code",
   "execution_count": 33,
   "id": "864e12fc",
   "metadata": {},
   "outputs": [
    {
     "data": {
      "text/plain": [
       "Index(['rating_score', 'critic_likes', 'critic_comments', 'user_trialist',\n",
       "       'user_subscriber', 'user_eligible_for_trial', 'user_has_payment_method',\n",
       "       'movie_release_year', 'movie_title_language', 'movie_popularity',\n",
       "       'total_number_of_lists', 'total_list_comments', 'total_list_followers',\n",
       "       'total_list_movie_number'],\n",
       "      dtype='object')"
      ]
     },
     "execution_count": 33,
     "metadata": {},
     "output_type": "execute_result"
    }
   ],
   "source": [
    "df.columns"
   ]
  },
  {
   "cell_type": "markdown",
   "id": "000e81b0",
   "metadata": {},
   "source": [
    "modificam datele din coloane prin calcularea mediei"
   ]
  },
  {
   "cell_type": "code",
   "execution_count": 34,
   "id": "26fe2a8e",
   "metadata": {},
   "outputs": [],
   "source": [
    "df['avg_list_comments'] = df['total_list_comments']/df['total_number_of_lists']"
   ]
  },
  {
   "cell_type": "code",
   "execution_count": 35,
   "id": "ed0aeeb6",
   "metadata": {},
   "outputs": [],
   "source": [
    "df['avg_list_followers'] = df['total_list_followers']/df['total_number_of_lists']"
   ]
  },
  {
   "cell_type": "code",
   "execution_count": 36,
   "id": "6ea6c19f",
   "metadata": {},
   "outputs": [],
   "source": [
    "df['avg_list_movie_number'] = df['total_list_movie_number']/df['total_number_of_lists']"
   ]
  },
  {
   "cell_type": "code",
   "execution_count": 37,
   "id": "823fbf87",
   "metadata": {},
   "outputs": [
    {
     "data": {
      "text/plain": [
       "<seaborn.axisgrid.FacetGrid at 0x110eda78>"
      ]
     },
     "execution_count": 37,
     "metadata": {},
     "output_type": "execute_result"
    },
    {
     "data": {
      "image/png": "[encoded data removed]",
      "text/plain": [
       "<Figure size 360x360 with 1 Axes>"
      ]
     },
     "metadata": {
      "needs_background": "light"
     },
     "output_type": "display_data"
    }
   ],
   "source": [
    "sns.catplot(x=\"rating_score\", y=\"avg_list_comments\", hue=\"rating_score\", data = df)"
   ]
  },
  {
   "cell_type": "code",
   "execution_count": 38,
   "id": "24a72fb6",
   "metadata": {},
   "outputs": [
    {
     "data": {
      "text/plain": [
       "<seaborn.axisgrid.FacetGrid at 0x1290fa00>"
      ]
     },
     "execution_count": 38,
     "metadata": {},
     "output_type": "execute_result"
    },
    {
     "data": {
      "image/png": "[encoded data removed]",
      "text/plain": [
       "<Figure size 360x360 with 1 Axes>"
      ]
     },
     "metadata": {
      "needs_background": "light"
     },
     "output_type": "display_data"
    }
   ],
   "source": [
    "sns.catplot(x=\"rating_score\", y=\"avg_list_followers\", hue=\"rating_score\", data = df)"
   ]
  },
  {
   "cell_type": "code",
   "execution_count": 39,
   "id": "bc1d5374",
   "metadata": {},
   "outputs": [
    {
     "data": {
      "text/plain": [
       "<seaborn.axisgrid.FacetGrid at 0x4f67130>"
      ]
     },
     "execution_count": 39,
     "metadata": {},
     "output_type": "execute_result"
    },
    {
     "data": {
      "image/png": "[encoded data removed]",
      "text/plain": [
       "<Figure size 360x360 with 1 Axes>"
      ]
     },
     "metadata": {
      "needs_background": "light"
     },
     "output_type": "display_data"
    }
   ],
   "source": [
    "sns.catplot(x=\"rating_score\", y=\"avg_list_movie_number\", hue=\"rating_score\", data = df)"
   ]
  },
  {
   "cell_type": "markdown",
   "id": "41bf2a91",
   "metadata": {},
   "source": [
    "Crream un vector cu campuri non informative"
   ]
  },
  {
   "cell_type": "code",
   "execution_count": 40,
   "id": "b3514f54",
   "metadata": {},
   "outputs": [],
   "source": [
    "non_informative_columns=['user_trialist', 'user_subscriber', 'user_eligible_for_trial', 'user_has_payment_method']"
   ]
  },
  {
   "cell_type": "code",
   "execution_count": 41,
   "id": "1f345834",
   "metadata": {},
   "outputs": [],
   "source": [
    "df = df.drop(non_informative_columns, axis=1)"
   ]
  },
  {
   "cell_type": "code",
   "execution_count": 42,
   "id": "f16e3822",
   "metadata": {},
   "outputs": [
    {
     "data": {
      "text/plain": [
       "Index(['rating_score', 'critic_likes', 'critic_comments', 'movie_release_year',\n",
       "       'movie_title_language', 'movie_popularity', 'total_number_of_lists',\n",
       "       'total_list_comments', 'total_list_followers',\n",
       "       'total_list_movie_number', 'avg_list_comments', 'avg_list_followers',\n",
       "       'avg_list_movie_number'],\n",
       "      dtype='object')"
      ]
     },
     "execution_count": 42,
     "metadata": {},
     "output_type": "execute_result"
    }
   ],
   "source": [
    "df.columns"
   ]
  },
  {
   "cell_type": "code",
   "execution_count": 43,
   "id": "2e5b9f40",
   "metadata": {},
   "outputs": [],
   "source": [
    "from imperio import BoxCoxTransformer, YeoJohnsonTransformer"
   ]
  },
  {
   "cell_type": "code",
   "execution_count": 44,
   "id": "db9eaf22",
   "metadata": {},
   "outputs": [],
   "source": [
    "box_cox = BoxCoxTransformer()"
   ]
  },
  {
   "cell_type": "code",
   "execution_count": 46,
   "id": "cce3b00a",
   "metadata": {},
   "outputs": [],
   "source": [
    "new_df = box_cox.apply(df, columns=['critic_likes', 'critic_comments'], target='rating_score')"
   ]
  },
  {
   "cell_type": "code",
   "execution_count": 47,
   "id": "f8caacc2",
   "metadata": {},
   "outputs": [
    {
     "data": {
      "text/html": [
       "<div>\n",
       "<style scoped>\n",
       "    .dataframe tbody tr th:only-of-type {\n",
       "        vertical-align: middle;\n",
       "    }\n",
       "\n",
       "    .dataframe tbody tr th {\n",
       "        vertical-align: top;\n",
       "    }\n",
       "\n",
       "    .dataframe thead th {\n",
       "        text-align: right;\n",
       "    }\n",
       "</style>\n",
       "<table border=\"1\" class=\"dataframe\">\n",
       "  <thead>\n",
       "    <tr style=\"text-align: right;\">\n",
       "      <th></th>\n",
       "      <th>rating_score</th>\n",
       "      <th>critic_likes</th>\n",
       "      <th>critic_comments</th>\n",
       "      <th>movie_release_year</th>\n",
       "      <th>movie_title_language</th>\n",
       "      <th>movie_popularity</th>\n",
       "      <th>total_number_of_lists</th>\n",
       "      <th>total_list_comments</th>\n",
       "      <th>total_list_followers</th>\n",
       "      <th>total_list_movie_number</th>\n",
       "      <th>avg_list_comments</th>\n",
       "      <th>avg_list_followers</th>\n",
       "      <th>avg_list_movie_number</th>\n",
       "    </tr>\n",
       "  </thead>\n",
       "  <tbody>\n",
       "    <tr>\n",
       "      <th>0</th>\n",
       "      <td>2.0</td>\n",
       "      <td>0</td>\n",
       "      <td>-2.0</td>\n",
       "      <td>87.554453</td>\n",
       "      <td>en</td>\n",
       "      <td>1.0</td>\n",
       "      <td>13</td>\n",
       "      <td>25</td>\n",
       "      <td>422</td>\n",
       "      <td>1176</td>\n",
       "      <td>1.923077</td>\n",
       "      <td>32.461538</td>\n",
       "      <td>90.461538</td>\n",
       "    </tr>\n",
       "    <tr>\n",
       "      <th>1</th>\n",
       "      <td>2.0</td>\n",
       "      <td>0</td>\n",
       "      <td>-2.0</td>\n",
       "      <td>87.554453</td>\n",
       "      <td>en</td>\n",
       "      <td>1.0</td>\n",
       "      <td>12</td>\n",
       "      <td>5</td>\n",
       "      <td>21</td>\n",
       "      <td>2425</td>\n",
       "      <td>0.416667</td>\n",
       "      <td>1.750000</td>\n",
       "      <td>202.083333</td>\n",
       "    </tr>\n",
       "    <tr>\n",
       "      <th>2</th>\n",
       "      <td>3.0</td>\n",
       "      <td>0</td>\n",
       "      <td>-2.0</td>\n",
       "      <td>87.554453</td>\n",
       "      <td>en</td>\n",
       "      <td>1.0</td>\n",
       "      <td>5</td>\n",
       "      <td>1</td>\n",
       "      <td>6</td>\n",
       "      <td>57</td>\n",
       "      <td>0.200000</td>\n",
       "      <td>1.200000</td>\n",
       "      <td>11.400000</td>\n",
       "    </tr>\n",
       "    <tr>\n",
       "      <th>3</th>\n",
       "      <td>3.0</td>\n",
       "      <td>0</td>\n",
       "      <td>-2.0</td>\n",
       "      <td>87.554453</td>\n",
       "      <td>en</td>\n",
       "      <td>1.0</td>\n",
       "      <td>6</td>\n",
       "      <td>1</td>\n",
       "      <td>12</td>\n",
       "      <td>172</td>\n",
       "      <td>0.166667</td>\n",
       "      <td>2.000000</td>\n",
       "      <td>28.666667</td>\n",
       "    </tr>\n",
       "    <tr>\n",
       "      <th>4</th>\n",
       "      <td>4.0</td>\n",
       "      <td>0</td>\n",
       "      <td>-2.0</td>\n",
       "      <td>87.554453</td>\n",
       "      <td>en</td>\n",
       "      <td>1.0</td>\n",
       "      <td>15</td>\n",
       "      <td>7</td>\n",
       "      <td>7</td>\n",
       "      <td>459</td>\n",
       "      <td>0.466667</td>\n",
       "      <td>0.466667</td>\n",
       "      <td>30.600000</td>\n",
       "    </tr>\n",
       "    <tr>\n",
       "      <th>...</th>\n",
       "      <td>...</td>\n",
       "      <td>...</td>\n",
       "      <td>...</td>\n",
       "      <td>...</td>\n",
       "      <td>...</td>\n",
       "      <td>...</td>\n",
       "      <td>...</td>\n",
       "      <td>...</td>\n",
       "      <td>...</td>\n",
       "      <td>...</td>\n",
       "      <td>...</td>\n",
       "      <td>...</td>\n",
       "      <td>...</td>\n",
       "    </tr>\n",
       "    <tr>\n",
       "      <th>29995</th>\n",
       "      <td>1.0</td>\n",
       "      <td>0</td>\n",
       "      <td>-2.0</td>\n",
       "      <td>86.475985</td>\n",
       "      <td>en</td>\n",
       "      <td>9.0</td>\n",
       "      <td>1</td>\n",
       "      <td>0</td>\n",
       "      <td>0</td>\n",
       "      <td>20</td>\n",
       "      <td>0.000000</td>\n",
       "      <td>0.000000</td>\n",
       "      <td>20.000000</td>\n",
       "    </tr>\n",
       "    <tr>\n",
       "      <th>29996</th>\n",
       "      <td>4.0</td>\n",
       "      <td>0</td>\n",
       "      <td>-2.0</td>\n",
       "      <td>86.475985</td>\n",
       "      <td>en</td>\n",
       "      <td>9.0</td>\n",
       "      <td>2</td>\n",
       "      <td>0</td>\n",
       "      <td>6</td>\n",
       "      <td>1044</td>\n",
       "      <td>0.000000</td>\n",
       "      <td>3.000000</td>\n",
       "      <td>522.000000</td>\n",
       "    </tr>\n",
       "    <tr>\n",
       "      <th>29997</th>\n",
       "      <td>2.0</td>\n",
       "      <td>0</td>\n",
       "      <td>-2.0</td>\n",
       "      <td>86.475985</td>\n",
       "      <td>en</td>\n",
       "      <td>9.0</td>\n",
       "      <td>1</td>\n",
       "      <td>0</td>\n",
       "      <td>0</td>\n",
       "      <td>3</td>\n",
       "      <td>0.000000</td>\n",
       "      <td>0.000000</td>\n",
       "      <td>3.000000</td>\n",
       "    </tr>\n",
       "    <tr>\n",
       "      <th>29998</th>\n",
       "      <td>2.0</td>\n",
       "      <td>0</td>\n",
       "      <td>-2.0</td>\n",
       "      <td>86.475985</td>\n",
       "      <td>en</td>\n",
       "      <td>9.0</td>\n",
       "      <td>25</td>\n",
       "      <td>0</td>\n",
       "      <td>9</td>\n",
       "      <td>1693</td>\n",
       "      <td>0.000000</td>\n",
       "      <td>0.360000</td>\n",
       "      <td>67.720000</td>\n",
       "    </tr>\n",
       "    <tr>\n",
       "      <th>29999</th>\n",
       "      <td>3.0</td>\n",
       "      <td>0</td>\n",
       "      <td>-2.0</td>\n",
       "      <td>86.475985</td>\n",
       "      <td>en</td>\n",
       "      <td>9.0</td>\n",
       "      <td>4</td>\n",
       "      <td>0</td>\n",
       "      <td>24</td>\n",
       "      <td>4728</td>\n",
       "      <td>0.000000</td>\n",
       "      <td>6.000000</td>\n",
       "      <td>1182.000000</td>\n",
       "    </tr>\n",
       "  </tbody>\n",
       "</table>\n",
       "<p>29991 rows × 13 columns</p>\n",
       "</div>"
      ],
      "text/plain": [
       "       rating_score  critic_likes  critic_comments  movie_release_year  \\\n",
       "0               2.0             0             -2.0           87.554453   \n",
       "1               2.0             0             -2.0           87.554453   \n",
       "2               3.0             0             -2.0           87.554453   \n",
       "3               3.0             0             -2.0           87.554453   \n",
       "4               4.0             0             -2.0           87.554453   \n",
       "...             ...           ...              ...                 ...   \n",
       "29995           1.0             0             -2.0           86.475985   \n",
       "29996           4.0             0             -2.0           86.475985   \n",
       "29997           2.0             0             -2.0           86.475985   \n",
       "29998           2.0             0             -2.0           86.475985   \n",
       "29999           3.0             0             -2.0           86.475985   \n",
       "\n",
       "      movie_title_language  movie_popularity  total_number_of_lists  \\\n",
       "0                       en               1.0                     13   \n",
       "1                       en               1.0                     12   \n",
       "2                       en               1.0                      5   \n",
       "3                       en               1.0                      6   \n",
       "4                       en               1.0                     15   \n",
       "...                    ...               ...                    ...   \n",
       "29995                   en               9.0                      1   \n",
       "29996                   en               9.0                      2   \n",
       "29997                   en               9.0                      1   \n",
       "29998                   en               9.0                     25   \n",
       "29999                   en               9.0                      4   \n",
       "\n",
       "       total_list_comments  total_list_followers  total_list_movie_number  \\\n",
       "0                       25                   422                     1176   \n",
       "1                        5                    21                     2425   \n",
       "2                        1                     6                       57   \n",
       "3                        1                    12                      172   \n",
       "4                        7                     7                      459   \n",
       "...                    ...                   ...                      ...   \n",
       "29995                    0                     0                       20   \n",
       "29996                    0                     6                     1044   \n",
       "29997                    0                     0                        3   \n",
       "29998                    0                     9                     1693   \n",
       "29999                    0                    24                     4728   \n",
       "\n",
       "       avg_list_comments  avg_list_followers  avg_list_movie_number  \n",
       "0               1.923077           32.461538              90.461538  \n",
       "1               0.416667            1.750000             202.083333  \n",
       "2               0.200000            1.200000              11.400000  \n",
       "3               0.166667            2.000000              28.666667  \n",
       "4               0.466667            0.466667              30.600000  \n",
       "...                  ...                 ...                    ...  \n",
       "29995           0.000000            0.000000              20.000000  \n",
       "29996           0.000000            3.000000             522.000000  \n",
       "29997           0.000000            0.000000               3.000000  \n",
       "29998           0.000000            0.360000              67.720000  \n",
       "29999           0.000000            6.000000            1182.000000  \n",
       "\n",
       "[29991 rows x 13 columns]"
      ]
     },
     "execution_count": 47,
     "metadata": {},
     "output_type": "execute_result"
    }
   ],
   "source": [
    "new_df"
   ]
  },
  {
   "cell_type": "code",
   "execution_count": 48,
   "id": "afab980d",
   "metadata": {},
   "outputs": [
    {
     "data": {
      "text/plain": [
       "(array([2.9746e+04, 1.4100e+02, 5.5000e+01, 1.9000e+01, 1.0000e+01,\n",
       "        8.0000e+00, 4.0000e+00, 3.0000e+00, 3.0000e+00, 2.0000e+00]),\n",
       " array([ 0. ,  2.2,  4.4,  6.6,  8.8, 11. , 13.2, 15.4, 17.6, 19.8, 22. ]),\n",
       " <BarContainer object of 10 artists>)"
      ]
     },
     "execution_count": 48,
     "metadata": {},
     "output_type": "execute_result"
    },
    {
     "data": {
      "image/png": "[encoded data removed]",
      "text/plain": [
       "<Figure size 432x288 with 1 Axes>"
      ]
     },
     "metadata": {
      "needs_background": "light"
     },
     "output_type": "display_data"
    }
   ],
   "source": [
    "plt.hist(new_df['critic_likes'])"
   ]
  },
  {
   "cell_type": "code",
   "execution_count": 49,
   "id": "11181845",
   "metadata": {},
   "outputs": [
    {
     "data": {
      "text/plain": [
       "(array([2.988e+04, 6.300e+01, 2.200e+01, 1.200e+01, 7.000e+00, 3.000e+00,\n",
       "        2.000e+00, 0.000e+00, 1.000e+00, 1.000e+00]),\n",
       " array([-2.        , -0.92296704,  0.15406592,  1.23109888,  2.30813185,\n",
       "         3.38516481,  4.46219777,  5.53923073,  6.61626369,  7.69329665,\n",
       "         8.77032961]),\n",
       " <BarContainer object of 10 artists>)"
      ]
     },
     "execution_count": 49,
     "metadata": {},
     "output_type": "execute_result"
    },
    {
     "data": {
      "image/png": "[encoded data removed]",
      "text/plain": [
       "<Figure size 432x288 with 1 Axes>"
      ]
     },
     "metadata": {
      "needs_background": "light"
     },
     "output_type": "display_data"
    }
   ],
   "source": [
    "plt.hist(new_df['critic_comments'])"
   ]
  },
  {
   "cell_type": "code",
   "execution_count": 50,
   "id": "cfa3f0bf",
   "metadata": {},
   "outputs": [],
   "source": [
    "yeo_johnson=YeoJohnsonTransformer(l=2)"
   ]
  },
  {
   "cell_type": "code",
   "execution_count": 51,
   "id": "5242b75a",
   "metadata": {},
   "outputs": [],
   "source": [
    "new_df =yeo_johnson.apply(df, columns=['critic_likes', 'critic_comments'], target='rating_score')"
   ]
  },
  {
   "cell_type": "code",
   "execution_count": 52,
   "id": "44b8db07",
   "metadata": {},
   "outputs": [
    {
     "data": {
      "text/html": [
       "<div>\n",
       "<style scoped>\n",
       "    .dataframe tbody tr th:only-of-type {\n",
       "        vertical-align: middle;\n",
       "    }\n",
       "\n",
       "    .dataframe tbody tr th {\n",
       "        vertical-align: top;\n",
       "    }\n",
       "\n",
       "    .dataframe thead th {\n",
       "        text-align: right;\n",
       "    }\n",
       "</style>\n",
       "<table border=\"1\" class=\"dataframe\">\n",
       "  <thead>\n",
       "    <tr style=\"text-align: right;\">\n",
       "      <th></th>\n",
       "      <th>rating_score</th>\n",
       "      <th>critic_likes</th>\n",
       "      <th>critic_comments</th>\n",
       "      <th>movie_release_year</th>\n",
       "      <th>movie_title_language</th>\n",
       "      <th>movie_popularity</th>\n",
       "      <th>total_number_of_lists</th>\n",
       "      <th>total_list_comments</th>\n",
       "      <th>total_list_followers</th>\n",
       "      <th>total_list_movie_number</th>\n",
       "      <th>avg_list_comments</th>\n",
       "      <th>avg_list_followers</th>\n",
       "      <th>avg_list_movie_number</th>\n",
       "    </tr>\n",
       "  </thead>\n",
       "  <tbody>\n",
       "    <tr>\n",
       "      <th>0</th>\n",
       "      <td>2.0</td>\n",
       "      <td>0</td>\n",
       "      <td>-0.5</td>\n",
       "      <td>2010012.0</td>\n",
       "      <td>en</td>\n",
       "      <td>1.0</td>\n",
       "      <td>13</td>\n",
       "      <td>25</td>\n",
       "      <td>422</td>\n",
       "      <td>1176</td>\n",
       "      <td>1.923077</td>\n",
       "      <td>32.461538</td>\n",
       "      <td>90.461538</td>\n",
       "    </tr>\n",
       "    <tr>\n",
       "      <th>1</th>\n",
       "      <td>2.0</td>\n",
       "      <td>0</td>\n",
       "      <td>-0.5</td>\n",
       "      <td>2010012.0</td>\n",
       "      <td>en</td>\n",
       "      <td>1.0</td>\n",
       "      <td>12</td>\n",
       "      <td>5</td>\n",
       "      <td>21</td>\n",
       "      <td>2425</td>\n",
       "      <td>0.416667</td>\n",
       "      <td>1.750000</td>\n",
       "      <td>202.083333</td>\n",
       "    </tr>\n",
       "    <tr>\n",
       "      <th>2</th>\n",
       "      <td>3.0</td>\n",
       "      <td>0</td>\n",
       "      <td>-0.5</td>\n",
       "      <td>2010012.0</td>\n",
       "      <td>en</td>\n",
       "      <td>1.0</td>\n",
       "      <td>5</td>\n",
       "      <td>1</td>\n",
       "      <td>6</td>\n",
       "      <td>57</td>\n",
       "      <td>0.200000</td>\n",
       "      <td>1.200000</td>\n",
       "      <td>11.400000</td>\n",
       "    </tr>\n",
       "    <tr>\n",
       "      <th>3</th>\n",
       "      <td>3.0</td>\n",
       "      <td>0</td>\n",
       "      <td>-0.5</td>\n",
       "      <td>2010012.0</td>\n",
       "      <td>en</td>\n",
       "      <td>1.0</td>\n",
       "      <td>6</td>\n",
       "      <td>1</td>\n",
       "      <td>12</td>\n",
       "      <td>172</td>\n",
       "      <td>0.166667</td>\n",
       "      <td>2.000000</td>\n",
       "      <td>28.666667</td>\n",
       "    </tr>\n",
       "    <tr>\n",
       "      <th>4</th>\n",
       "      <td>4.0</td>\n",
       "      <td>0</td>\n",
       "      <td>-0.5</td>\n",
       "      <td>2010012.0</td>\n",
       "      <td>en</td>\n",
       "      <td>1.0</td>\n",
       "      <td>15</td>\n",
       "      <td>7</td>\n",
       "      <td>7</td>\n",
       "      <td>459</td>\n",
       "      <td>0.466667</td>\n",
       "      <td>0.466667</td>\n",
       "      <td>30.600000</td>\n",
       "    </tr>\n",
       "    <tr>\n",
       "      <th>...</th>\n",
       "      <td>...</td>\n",
       "      <td>...</td>\n",
       "      <td>...</td>\n",
       "      <td>...</td>\n",
       "      <td>...</td>\n",
       "      <td>...</td>\n",
       "      <td>...</td>\n",
       "      <td>...</td>\n",
       "      <td>...</td>\n",
       "      <td>...</td>\n",
       "      <td>...</td>\n",
       "      <td>...</td>\n",
       "      <td>...</td>\n",
       "    </tr>\n",
       "    <tr>\n",
       "      <th>29995</th>\n",
       "      <td>1.0</td>\n",
       "      <td>0</td>\n",
       "      <td>-0.5</td>\n",
       "      <td>1914924.0</td>\n",
       "      <td>en</td>\n",
       "      <td>9.0</td>\n",
       "      <td>1</td>\n",
       "      <td>0</td>\n",
       "      <td>0</td>\n",
       "      <td>20</td>\n",
       "      <td>0.000000</td>\n",
       "      <td>0.000000</td>\n",
       "      <td>20.000000</td>\n",
       "    </tr>\n",
       "    <tr>\n",
       "      <th>29996</th>\n",
       "      <td>4.0</td>\n",
       "      <td>0</td>\n",
       "      <td>-0.5</td>\n",
       "      <td>1914924.0</td>\n",
       "      <td>en</td>\n",
       "      <td>9.0</td>\n",
       "      <td>2</td>\n",
       "      <td>0</td>\n",
       "      <td>6</td>\n",
       "      <td>1044</td>\n",
       "      <td>0.000000</td>\n",
       "      <td>3.000000</td>\n",
       "      <td>522.000000</td>\n",
       "    </tr>\n",
       "    <tr>\n",
       "      <th>29997</th>\n",
       "      <td>2.0</td>\n",
       "      <td>0</td>\n",
       "      <td>-0.5</td>\n",
       "      <td>1914924.0</td>\n",
       "      <td>en</td>\n",
       "      <td>9.0</td>\n",
       "      <td>1</td>\n",
       "      <td>0</td>\n",
       "      <td>0</td>\n",
       "      <td>3</td>\n",
       "      <td>0.000000</td>\n",
       "      <td>0.000000</td>\n",
       "      <td>3.000000</td>\n",
       "    </tr>\n",
       "    <tr>\n",
       "      <th>29998</th>\n",
       "      <td>2.0</td>\n",
       "      <td>0</td>\n",
       "      <td>-0.5</td>\n",
       "      <td>1914924.0</td>\n",
       "      <td>en</td>\n",
       "      <td>9.0</td>\n",
       "      <td>25</td>\n",
       "      <td>0</td>\n",
       "      <td>9</td>\n",
       "      <td>1693</td>\n",
       "      <td>0.000000</td>\n",
       "      <td>0.360000</td>\n",
       "      <td>67.720000</td>\n",
       "    </tr>\n",
       "    <tr>\n",
       "      <th>29999</th>\n",
       "      <td>3.0</td>\n",
       "      <td>0</td>\n",
       "      <td>-0.5</td>\n",
       "      <td>1914924.0</td>\n",
       "      <td>en</td>\n",
       "      <td>9.0</td>\n",
       "      <td>4</td>\n",
       "      <td>0</td>\n",
       "      <td>24</td>\n",
       "      <td>4728</td>\n",
       "      <td>0.000000</td>\n",
       "      <td>6.000000</td>\n",
       "      <td>1182.000000</td>\n",
       "    </tr>\n",
       "  </tbody>\n",
       "</table>\n",
       "<p>29991 rows × 13 columns</p>\n",
       "</div>"
      ],
      "text/plain": [
       "       rating_score  critic_likes  critic_comments  movie_release_year  \\\n",
       "0               2.0             0             -0.5           2010012.0   \n",
       "1               2.0             0             -0.5           2010012.0   \n",
       "2               3.0             0             -0.5           2010012.0   \n",
       "3               3.0             0             -0.5           2010012.0   \n",
       "4               4.0             0             -0.5           2010012.0   \n",
       "...             ...           ...              ...                 ...   \n",
       "29995           1.0             0             -0.5           1914924.0   \n",
       "29996           4.0             0             -0.5           1914924.0   \n",
       "29997           2.0             0             -0.5           1914924.0   \n",
       "29998           2.0             0             -0.5           1914924.0   \n",
       "29999           3.0             0             -0.5           1914924.0   \n",
       "\n",
       "      movie_title_language  movie_popularity  total_number_of_lists  \\\n",
       "0                       en               1.0                     13   \n",
       "1                       en               1.0                     12   \n",
       "2                       en               1.0                      5   \n",
       "3                       en               1.0                      6   \n",
       "4                       en               1.0                     15   \n",
       "...                    ...               ...                    ...   \n",
       "29995                   en               9.0                      1   \n",
       "29996                   en               9.0                      2   \n",
       "29997                   en               9.0                      1   \n",
       "29998                   en               9.0                     25   \n",
       "29999                   en               9.0                      4   \n",
       "\n",
       "       total_list_comments  total_list_followers  total_list_movie_number  \\\n",
       "0                       25                   422                     1176   \n",
       "1                        5                    21                     2425   \n",
       "2                        1                     6                       57   \n",
       "3                        1                    12                      172   \n",
       "4                        7                     7                      459   \n",
       "...                    ...                   ...                      ...   \n",
       "29995                    0                     0                       20   \n",
       "29996                    0                     6                     1044   \n",
       "29997                    0                     0                        3   \n",
       "29998                    0                     9                     1693   \n",
       "29999                    0                    24                     4728   \n",
       "\n",
       "       avg_list_comments  avg_list_followers  avg_list_movie_number  \n",
       "0               1.923077           32.461538              90.461538  \n",
       "1               0.416667            1.750000             202.083333  \n",
       "2               0.200000            1.200000              11.400000  \n",
       "3               0.166667            2.000000              28.666667  \n",
       "4               0.466667            0.466667              30.600000  \n",
       "...                  ...                 ...                    ...  \n",
       "29995           0.000000            0.000000              20.000000  \n",
       "29996           0.000000            3.000000             522.000000  \n",
       "29997           0.000000            0.000000               3.000000  \n",
       "29998           0.000000            0.360000              67.720000  \n",
       "29999           0.000000            6.000000            1182.000000  \n",
       "\n",
       "[29991 rows x 13 columns]"
      ]
     },
     "execution_count": 52,
     "metadata": {},
     "output_type": "execute_result"
    }
   ],
   "source": [
    "new_df"
   ]
  },
  {
   "cell_type": "code",
   "execution_count": 53,
   "id": "ec5026c0",
   "metadata": {},
   "outputs": [],
   "source": [
    "df=df.drop(['movie_title_language'], axis=1)"
   ]
  },
  {
   "cell_type": "code",
   "execution_count": 54,
   "id": "c8bebdad",
   "metadata": {},
   "outputs": [
    {
     "data": {
      "text/plain": [
       "Index(['rating_score', 'critic_likes', 'critic_comments', 'movie_release_year',\n",
       "       'movie_popularity', 'total_number_of_lists', 'total_list_comments',\n",
       "       'total_list_followers', 'total_list_movie_number', 'avg_list_comments',\n",
       "       'avg_list_followers', 'avg_list_movie_number'],\n",
       "      dtype='object')"
      ]
     },
     "execution_count": 54,
     "metadata": {},
     "output_type": "execute_result"
    }
   ],
   "source": [
    "df.columns"
   ]
  },
  {
   "cell_type": "code",
   "execution_count": 55,
   "id": "16c17b2b",
   "metadata": {},
   "outputs": [],
   "source": [
    "from kydavra import PValueSelector"
   ]
  },
  {
   "cell_type": "code",
   "execution_count": 56,
   "id": "b47772da",
   "metadata": {},
   "outputs": [],
   "source": [
    "p_value= PValueSelector()"
   ]
  },
  {
   "cell_type": "code",
   "execution_count": 58,
   "id": "e1a648d1",
   "metadata": {},
   "outputs": [],
   "source": [
    "sellected_cols= p_value.select(df, 'rating_score')"
   ]
  },
  {
   "cell_type": "code",
   "execution_count": 59,
   "id": "57c3e87a",
   "metadata": {},
   "outputs": [
    {
     "data": {
      "text/plain": [
       "['critic_likes',\n",
       " 'critic_comments',\n",
       " 'movie_release_year',\n",
       " 'movie_popularity',\n",
       " 'avg_list_comments']"
      ]
     },
     "execution_count": 59,
     "metadata": {},
     "output_type": "execute_result"
    }
   ],
   "source": [
    "sellected_cols"
   ]
  },
  {
   "cell_type": "code",
   "execution_count": 60,
   "id": "29c6fb99",
   "metadata": {},
   "outputs": [],
   "source": [
    "sellected_cols.append('rating_score')"
   ]
  },
  {
   "cell_type": "code",
   "execution_count": 61,
   "id": "5dbb6fa7",
   "metadata": {},
   "outputs": [],
   "source": [
    "selected_df=df[sellected_cols]"
   ]
  },
  {
   "cell_type": "code",
   "execution_count": 62,
   "id": "fe4a5dd8",
   "metadata": {},
   "outputs": [
    {
     "data": {
      "text/html": [
       "<div>\n",
       "<style scoped>\n",
       "    .dataframe tbody tr th:only-of-type {\n",
       "        vertical-align: middle;\n",
       "    }\n",
       "\n",
       "    .dataframe tbody tr th {\n",
       "        vertical-align: top;\n",
       "    }\n",
       "\n",
       "    .dataframe thead th {\n",
       "        text-align: right;\n",
       "    }\n",
       "</style>\n",
       "<table border=\"1\" class=\"dataframe\">\n",
       "  <thead>\n",
       "    <tr style=\"text-align: right;\">\n",
       "      <th></th>\n",
       "      <th>critic_likes</th>\n",
       "      <th>critic_comments</th>\n",
       "      <th>movie_release_year</th>\n",
       "      <th>movie_popularity</th>\n",
       "      <th>avg_list_comments</th>\n",
       "      <th>rating_score</th>\n",
       "    </tr>\n",
       "  </thead>\n",
       "  <tbody>\n",
       "    <tr>\n",
       "      <th>0</th>\n",
       "      <td>0</td>\n",
       "      <td>0</td>\n",
       "      <td>2005.0</td>\n",
       "      <td>1.0</td>\n",
       "      <td>1.923077</td>\n",
       "      <td>2.0</td>\n",
       "    </tr>\n",
       "    <tr>\n",
       "      <th>1</th>\n",
       "      <td>0</td>\n",
       "      <td>0</td>\n",
       "      <td>2005.0</td>\n",
       "      <td>1.0</td>\n",
       "      <td>0.416667</td>\n",
       "      <td>2.0</td>\n",
       "    </tr>\n",
       "    <tr>\n",
       "      <th>2</th>\n",
       "      <td>0</td>\n",
       "      <td>0</td>\n",
       "      <td>2005.0</td>\n",
       "      <td>1.0</td>\n",
       "      <td>0.200000</td>\n",
       "      <td>3.0</td>\n",
       "    </tr>\n",
       "    <tr>\n",
       "      <th>3</th>\n",
       "      <td>0</td>\n",
       "      <td>0</td>\n",
       "      <td>2005.0</td>\n",
       "      <td>1.0</td>\n",
       "      <td>0.166667</td>\n",
       "      <td>3.0</td>\n",
       "    </tr>\n",
       "    <tr>\n",
       "      <th>4</th>\n",
       "      <td>0</td>\n",
       "      <td>0</td>\n",
       "      <td>2005.0</td>\n",
       "      <td>1.0</td>\n",
       "      <td>0.466667</td>\n",
       "      <td>4.0</td>\n",
       "    </tr>\n",
       "    <tr>\n",
       "      <th>...</th>\n",
       "      <td>...</td>\n",
       "      <td>...</td>\n",
       "      <td>...</td>\n",
       "      <td>...</td>\n",
       "      <td>...</td>\n",
       "      <td>...</td>\n",
       "    </tr>\n",
       "    <tr>\n",
       "      <th>29995</th>\n",
       "      <td>0</td>\n",
       "      <td>0</td>\n",
       "      <td>1957.0</td>\n",
       "      <td>9.0</td>\n",
       "      <td>0.000000</td>\n",
       "      <td>1.0</td>\n",
       "    </tr>\n",
       "    <tr>\n",
       "      <th>29996</th>\n",
       "      <td>0</td>\n",
       "      <td>0</td>\n",
       "      <td>1957.0</td>\n",
       "      <td>9.0</td>\n",
       "      <td>0.000000</td>\n",
       "      <td>4.0</td>\n",
       "    </tr>\n",
       "    <tr>\n",
       "      <th>29997</th>\n",
       "      <td>0</td>\n",
       "      <td>0</td>\n",
       "      <td>1957.0</td>\n",
       "      <td>9.0</td>\n",
       "      <td>0.000000</td>\n",
       "      <td>2.0</td>\n",
       "    </tr>\n",
       "    <tr>\n",
       "      <th>29998</th>\n",
       "      <td>0</td>\n",
       "      <td>0</td>\n",
       "      <td>1957.0</td>\n",
       "      <td>9.0</td>\n",
       "      <td>0.000000</td>\n",
       "      <td>2.0</td>\n",
       "    </tr>\n",
       "    <tr>\n",
       "      <th>29999</th>\n",
       "      <td>0</td>\n",
       "      <td>0</td>\n",
       "      <td>1957.0</td>\n",
       "      <td>9.0</td>\n",
       "      <td>0.000000</td>\n",
       "      <td>3.0</td>\n",
       "    </tr>\n",
       "  </tbody>\n",
       "</table>\n",
       "<p>29991 rows × 6 columns</p>\n",
       "</div>"
      ],
      "text/plain": [
       "       critic_likes  critic_comments  movie_release_year  movie_popularity  \\\n",
       "0                 0                0              2005.0               1.0   \n",
       "1                 0                0              2005.0               1.0   \n",
       "2                 0                0              2005.0               1.0   \n",
       "3                 0                0              2005.0               1.0   \n",
       "4                 0                0              2005.0               1.0   \n",
       "...             ...              ...                 ...               ...   \n",
       "29995             0                0              1957.0               9.0   \n",
       "29996             0                0              1957.0               9.0   \n",
       "29997             0                0              1957.0               9.0   \n",
       "29998             0                0              1957.0               9.0   \n",
       "29999             0                0              1957.0               9.0   \n",
       "\n",
       "       avg_list_comments  rating_score  \n",
       "0               1.923077           2.0  \n",
       "1               0.416667           2.0  \n",
       "2               0.200000           3.0  \n",
       "3               0.166667           3.0  \n",
       "4               0.466667           4.0  \n",
       "...                  ...           ...  \n",
       "29995           0.000000           1.0  \n",
       "29996           0.000000           4.0  \n",
       "29997           0.000000           2.0  \n",
       "29998           0.000000           2.0  \n",
       "29999           0.000000           3.0  \n",
       "\n",
       "[29991 rows x 6 columns]"
      ]
     },
     "execution_count": 62,
     "metadata": {},
     "output_type": "execute_result"
    }
   ],
   "source": [
    "selected_df"
   ]
  },
  {
   "cell_type": "code",
   "execution_count": 63,
   "id": "73435a74",
   "metadata": {},
   "outputs": [],
   "source": [
    "df.to_csv('innitial.csv', index=False)"
   ]
  },
  {
   "cell_type": "code",
   "execution_count": 65,
   "id": "ffb232f6",
   "metadata": {},
   "outputs": [],
   "source": [
    "selected_df.to_csv('selected.csv', index=False)"
   ]
  },
  {
   "cell_type": "code",
   "execution_count": null,
   "id": "88440c41",
   "metadata": {},
   "outputs": [],
   "source": []
  }
 ],
 "metadata": {
  "kernelspec": {
   "display_name": "Python 3 (ipykernel)",
   "language": "python",
   "name": "python3"
  },
  "language_info": {
   "codemirror_mode": {
    "name": "ipython",
    "version": 3
   },
   "file_extension": ".py",
   "mimetype": "text/x-python",
   "name": "python",
   "nbconvert_exporter": "python",
   "pygments_lexer": "ipython3",
   "version": "3.8.5"
  }
 },
 "nbformat": 4,
 "nbformat_minor": 5
}
